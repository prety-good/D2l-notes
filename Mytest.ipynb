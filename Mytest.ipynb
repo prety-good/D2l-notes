{
 "cells": [
  {
   "cell_type": "code",
   "execution_count": 3,
   "metadata": {},
   "outputs": [],
   "source": [
    "import torch\n",
    "from torch import nn\n",
    "from d2l import torch as d2l\n",
    "import numpy as np"
   ]
  },
  {
   "cell_type": "code",
   "execution_count": 4,
   "metadata": {},
   "outputs": [
    {
     "name": "stdout",
     "output_type": "stream",
     "text": [
      "tensor([[ 6, 12],\n",
      "        [15, 30]])\n"
     ]
    },
    {
     "data": {
      "text/plain": [
       "array([[ 1,  4,  9],\n",
       "       [16, 25, 36]])"
      ]
     },
     "execution_count": 4,
     "metadata": {},
     "output_type": "execute_result"
    }
   ],
   "source": [
    "a=torch.tensor([[1,2,3],[4,5,6]])\n",
    "b=torch.tensor([[1,2],[1,2],[1,2]])\n",
    "print(torch.mm(a,b))\n",
    "a=np.array([[1,2,3],[4,5,6]])\n",
    "b=np.array([[1,2,3],[4,5,6]])\n",
    "np.multiply(a,b)\n",
    "a*b"
   ]
  },
  {
   "cell_type": "code",
   "execution_count": 34,
   "metadata": {},
   "outputs": [
    {
     "data": {
      "text/plain": [
       "tensor([8.], dtype=torch.float64)"
      ]
     },
     "execution_count": 34,
     "metadata": {},
     "output_type": "execute_result"
    }
   ],
   "source": [
    "a=[3]\n",
    "a=torch.tensor(a,dtype=float,requires_grad=True)\n",
    "b=a**2+2*a\n",
    "b.backward()\n",
    "a.grad"
   ]
  },
  {
   "cell_type": "code",
   "execution_count": 69,
   "metadata": {},
   "outputs": [
    {
     "data": {
      "text/plain": [
       "tensor([8.], dtype=torch.float64)"
      ]
     },
     "execution_count": 69,
     "metadata": {},
     "output_type": "execute_result"
    }
   ],
   "source": [
    "a.grad.zero_()\n",
    "b=a**2+2*a\n",
    "b.backward()\n",
    "a.grad"
   ]
  },
  {
   "cell_type": "code",
   "execution_count": 1,
   "metadata": {},
   "outputs": [
    {
     "data": {
      "text/plain": [
       "[<matplotlib.lines.Line2D at 0x249bb753a90>]"
      ]
     },
     "execution_count": 1,
     "metadata": {},
     "output_type": "execute_result"
    },
    {
     "data": {
      "image/png": "[encoded data removed]",
      "text/plain": [
       "<Figure size 720x360 with 1 Axes>"
      ]
     },
     "metadata": {
      "needs_background": "light"
     },
     "output_type": "display_data"
    }
   ],
   "source": [
    "%matplotlib inline\n",
    "import torch\n",
    "from d2l import torch as d2l\n",
    "\n",
    "from matplotlib import pyplot as plt\n",
    "x = torch.arange(-10,10,0.1)\n",
    "y = torch.relu(x)\n",
    "_,axes = plt.subplots(1,1,figsize=(10,5))\n",
    "axes.plot(x , y )"
   ]
  },
  {
   "cell_type": "code",
   "execution_count": 3,
   "metadata": {},
   "outputs": [
    {
     "data": {
      "text/plain": [
       "MaxPool2d(kernel_size=(2, 2), stride=(2, 2), padding=0, dilation=1, ceil_mode=False)"
      ]
     },
     "execution_count": 3,
     "metadata": {},
     "output_type": "execute_result"
    }
   ],
   "source": [
    "a=nn.MaxPool2d((2,2))\n",
    "a"
   ]
  },
  {
   "cell_type": "code",
   "execution_count": null,
   "metadata": {},
   "outputs": [],
   "source": [
    "from torch.utils import data\n",
    "from torchvision import transforms\n",
    "import numpy as np\n",
    "\n",
    "class mydataset(data.Dataset):\n",
    "    def __init__(self,X,y,trans=None):\n",
    "        super().__init__()\n",
    "        self.y=y\n",
    "        self.x=X\n",
    "        self.trans=trans\n",
    "    def __len__(self):\n",
    "        return len(self.x)\n",
    "    def __getitem__(self,index):\n",
    "        if(self.trans):\n",
    "             return self.trans(self.x[index]),self.trans(self.y[index])\n",
    "        else:\n",
    "             return self.x[index],self.y[index]\n",
    "\n",
    "Data = np.asarray([[1, 2], [3, 4],[5, 6], [7, 8]])\n",
    "Label = np.asarray([[0], [1], [0], [2]])\n",
    "trans = transforms.Compose([transforms.RandomVerticalFlip(),transforms.ToTensor()])\n",
    "\n",
    "dataset = mydataset(Data,Label)\n",
    "for i,(X,y) in enumerate(dataset):\n",
    "    print(f'{i}:{X}{y}')\n",
    "\n",
    "data = data.DataLoader(dataset ,batch_size=2,shuffle=True,num_workers=0)\n",
    "for X,y in data:\n",
    "    print(X,y)\n"
   ]
  },
  {
   "cell_type": "code",
   "execution_count": 14,
   "metadata": {},
   "outputs": [
    {
     "name": "stdout",
     "output_type": "stream",
     "text": [
      "tensor([ 0,  1,  2,  3,  4,  5,  6,  7,  8,  9, 10, 11])\n",
      "tensor([[ 0,  1,  2,  3,  4,  5],\n",
      "        [ 6,  7,  8,  9, 10, 11]])\n",
      "tensor([[ 0,  1,  2,  3],\n",
      "        [ 4,  5,  6,  7],\n",
      "        [ 8,  9, 10, 11]])\n",
      "torch.Size([3, 4])\n",
      "torch.Size([1, 3, 4])\n",
      "torch.Size([3, 4])\n"
     ]
    },
    {
     "data": {
      "text/plain": [
       "12"
      ]
     },
     "execution_count": 14,
     "metadata": {},
     "output_type": "execute_result"
    }
   ],
   "source": [
    "a = torch.arange(12)\n",
    "print(a)\n",
    "a = a.view(2,6)\n",
    "print(a)\n",
    "a = a.reshape(3,4)\n",
    "print(a)\n",
    "print(a.shape)\n",
    "# 升维\n",
    "a = a.unsqueeze(0)\n",
    "print(a.shape)\n",
    "# 降维\n",
    "a = a.squeeze(0)\n",
    "print(a.shape)"
   ]
  },
  {
   "cell_type": "code",
   "execution_count": 2,
   "metadata": {},
   "outputs": [
    {
     "data": {
      "image/svg+xml": "<?xml version=\"1.0\" encoding=\"utf-8\" standalone=\"no\"?>\r\n<!DOCTYPE svg PUBLIC \"-//W3C//DTD SVG 1.1//EN\"\r\n  \"http://www.w3.org/Graphics/SVG/1.1/DTD/svg11.dtd\">\r\n<!-- Created with matplotlib (https://matplotlib.org/) -->\r\n<svg height=\"180.65625pt\" version=\"1.1\" viewBox=\"0 0 258.05625 180.65625\" width=\"258.05625pt\" xmlns=\"http://www.w3.org/2000/svg\" xmlns:xlink=\"http://www.w3.org/1999/xlink\">\r\n <metadata>\r\n  <rdf:RDF xmlns:cc=\"http://creativecommons.org/ns#\" xmlns:dc=\"http://purl.org/dc/elements/1.1/\" xmlns:rdf=\"http://www.w3.org/1999/02/22-rdf-syntax-ns#\">\r\n   <cc:Work>\r\n    <dc:type rdf:resource=\"http://purl.org/dc/dcmitype/StillImage\"/>\r\n    <dc:date>2022-05-19T14:24:18.450210</dc:date>\r\n    <dc:format>image/svg+xml</dc:format>\r\n    <dc:creator>\r\n     <cc:Agent>\r\n      <dc:title>Matplotlib v3.3.4, https://matplotlib.org/</dc:title>\r\n     </cc:Agent>\r\n    </dc:creator>\r\n   </cc:Work>\r\n  </rdf:RDF>\r\n </metadata>\r\n <defs>\r\n  <style type=\"text/css\">*{stroke-linecap:butt;stroke-linejoin:round;}</style>\r\n </defs>\r\n <g id=\"figure_1\">\r\n  <g id=\"patch_1\">\r\n   <path d=\"M 0 180.65625 \r\nL 258.05625 180.65625 \r\nL 258.05625 0 \r\nL 0 0 \r\nz\r\n\" style=\"fill:none;\"/>\r\n  </g>\r\n  <g id=\"axes_1\">\r\n   <g id=\"patch_2\">\r\n    <path d=\"M 46.0125 143.1 \r\nL 241.3125 143.1 \r\nL 241.3125 7.2 \r\nL 46.0125 7.2 \r\nz\r\n\" style=\"fill:#ffffff;\"/>\r\n   </g>\r\n   <g id=\"matplotlib.axis_1\">\r\n    <g id=\"xtick_1\">\r\n     <g id=\"line2d_1\">\r\n      <path clip-path=\"url(#pf705ff4494)\" d=\"M 83.494318 143.1 \r\nL 83.494318 7.2 \r\n\" style=\"fill:none;stroke:#b0b0b0;stroke-linecap:square;stroke-width:0.8;\"/>\r\n     </g>\r\n     <g id=\"line2d_2\">\r\n      <defs>\r\n       <path d=\"M 0 0 \r\nL 0 3.5 \r\n\" id=\"m1e71e5005e\" style=\"stroke:#000000;stroke-width:0.8;\"/>\r\n      </defs>\r\n      <g>\r\n       <use style=\"stroke:#000000;stroke-width:0.8;\" x=\"83.494318\" xlink:href=\"#m1e71e5005e\" y=\"143.1\"/>\r\n      </g>\r\n     </g>\r\n     <g id=\"text_1\">\r\n      <!-- 20 -->\r\n      <g transform=\"translate(77.131818 157.698438)scale(0.1 -0.1)\">\r\n       <defs>\r\n        <path d=\"M 19.1875 8.296875 \r\nL 53.609375 8.296875 \r\nL 53.609375 0 \r\nL 7.328125 0 \r\nL 7.328125 8.296875 \r\nQ 12.9375 14.109375 22.625 23.890625 \r\nQ 32.328125 33.6875 34.8125 36.53125 \r\nQ 39.546875 41.84375 41.421875 45.53125 \r\nQ 43.3125 49.21875 43.3125 52.78125 \r\nQ 43.3125 58.59375 39.234375 62.25 \r\nQ 35.15625 65.921875 28.609375 65.921875 \r\nQ 23.96875 65.921875 18.8125 64.3125 \r\nQ 13.671875 62.703125 7.8125 59.421875 \r\nL 7.8125 69.390625 \r\nQ 13.765625 71.78125 18.9375 73 \r\nQ 24.125 74.21875 28.421875 74.21875 \r\nQ 39.75 74.21875 46.484375 68.546875 \r\nQ 53.21875 62.890625 53.21875 53.421875 \r\nQ 53.21875 48.921875 51.53125 44.890625 \r\nQ 49.859375 40.875 45.40625 35.40625 \r\nQ 44.1875 33.984375 37.640625 27.21875 \r\nQ 31.109375 20.453125 19.1875 8.296875 \r\nz\r\n\" id=\"DejaVuSans-50\"/>\r\n        <path d=\"M 31.78125 66.40625 \r\nQ 24.171875 66.40625 20.328125 58.90625 \r\nQ 16.5 51.421875 16.5 36.375 \r\nQ 16.5 21.390625 20.328125 13.890625 \r\nQ 24.171875 6.390625 31.78125 6.390625 \r\nQ 39.453125 6.390625 43.28125 13.890625 \r\nQ 47.125 21.390625 47.125 36.375 \r\nQ 47.125 51.421875 43.28125 58.90625 \r\nQ 39.453125 66.40625 31.78125 66.40625 \r\nz\r\nM 31.78125 74.21875 \r\nQ 44.046875 74.21875 50.515625 64.515625 \r\nQ 56.984375 54.828125 56.984375 36.375 \r\nQ 56.984375 17.96875 50.515625 8.265625 \r\nQ 44.046875 -1.421875 31.78125 -1.421875 \r\nQ 19.53125 -1.421875 13.0625 8.265625 \r\nQ 6.59375 17.96875 6.59375 36.375 \r\nQ 6.59375 54.828125 13.0625 64.515625 \r\nQ 19.53125 74.21875 31.78125 74.21875 \r\nz\r\n\" id=\"DejaVuSans-48\"/>\r\n       </defs>\r\n       <use xlink:href=\"#DejaVuSans-50\"/>\r\n       <use x=\"63.623047\" xlink:href=\"#DejaVuSans-48\"/>\r\n      </g>\r\n     </g>\r\n    </g>\r\n    <g id=\"xtick_2\">\r\n     <g id=\"line2d_3\">\r\n      <path clip-path=\"url(#pf705ff4494)\" d=\"M 122.948864 143.1 \r\nL 122.948864 7.2 \r\n\" style=\"fill:none;stroke:#b0b0b0;stroke-linecap:square;stroke-width:0.8;\"/>\r\n     </g>\r\n     <g id=\"line2d_4\">\r\n      <g>\r\n       <use style=\"stroke:#000000;stroke-width:0.8;\" x=\"122.948864\" xlink:href=\"#m1e71e5005e\" y=\"143.1\"/>\r\n      </g>\r\n     </g>\r\n     <g id=\"text_2\">\r\n      <!-- 40 -->\r\n      <g transform=\"translate(116.586364 157.698438)scale(0.1 -0.1)\">\r\n       <defs>\r\n        <path d=\"M 37.796875 64.3125 \r\nL 12.890625 25.390625 \r\nL 37.796875 25.390625 \r\nz\r\nM 35.203125 72.90625 \r\nL 47.609375 72.90625 \r\nL 47.609375 25.390625 \r\nL 58.015625 25.390625 \r\nL 58.015625 17.1875 \r\nL 47.609375 17.1875 \r\nL 47.609375 0 \r\nL 37.796875 0 \r\nL 37.796875 17.1875 \r\nL 4.890625 17.1875 \r\nL 4.890625 26.703125 \r\nz\r\n\" id=\"DejaVuSans-52\"/>\r\n       </defs>\r\n       <use xlink:href=\"#DejaVuSans-52\"/>\r\n       <use x=\"63.623047\" xlink:href=\"#DejaVuSans-48\"/>\r\n      </g>\r\n     </g>\r\n    </g>\r\n    <g id=\"xtick_3\">\r\n     <g id=\"line2d_5\">\r\n      <path clip-path=\"url(#pf705ff4494)\" d=\"M 162.403409 143.1 \r\nL 162.403409 7.2 \r\n\" style=\"fill:none;stroke:#b0b0b0;stroke-linecap:square;stroke-width:0.8;\"/>\r\n     </g>\r\n     <g id=\"line2d_6\">\r\n      <g>\r\n       <use style=\"stroke:#000000;stroke-width:0.8;\" x=\"162.403409\" xlink:href=\"#m1e71e5005e\" y=\"143.1\"/>\r\n      </g>\r\n     </g>\r\n     <g id=\"text_3\">\r\n      <!-- 60 -->\r\n      <g transform=\"translate(156.040909 157.698438)scale(0.1 -0.1)\">\r\n       <defs>\r\n        <path d=\"M 33.015625 40.375 \r\nQ 26.375 40.375 22.484375 35.828125 \r\nQ 18.609375 31.296875 18.609375 23.390625 \r\nQ 18.609375 15.53125 22.484375 10.953125 \r\nQ 26.375 6.390625 33.015625 6.390625 \r\nQ 39.65625 6.390625 43.53125 10.953125 \r\nQ 47.40625 15.53125 47.40625 23.390625 \r\nQ 47.40625 31.296875 43.53125 35.828125 \r\nQ 39.65625 40.375 33.015625 40.375 \r\nz\r\nM 52.59375 71.296875 \r\nL 52.59375 62.3125 \r\nQ 48.875 64.0625 45.09375 64.984375 \r\nQ 41.3125 65.921875 37.59375 65.921875 \r\nQ 27.828125 65.921875 22.671875 59.328125 \r\nQ 17.53125 52.734375 16.796875 39.40625 \r\nQ 19.671875 43.65625 24.015625 45.921875 \r\nQ 28.375 48.1875 33.59375 48.1875 \r\nQ 44.578125 48.1875 50.953125 41.515625 \r\nQ 57.328125 34.859375 57.328125 23.390625 \r\nQ 57.328125 12.15625 50.6875 5.359375 \r\nQ 44.046875 -1.421875 33.015625 -1.421875 \r\nQ 20.359375 -1.421875 13.671875 8.265625 \r\nQ 6.984375 17.96875 6.984375 36.375 \r\nQ 6.984375 53.65625 15.1875 63.9375 \r\nQ 23.390625 74.21875 37.203125 74.21875 \r\nQ 40.921875 74.21875 44.703125 73.484375 \r\nQ 48.484375 72.75 52.59375 71.296875 \r\nz\r\n\" id=\"DejaVuSans-54\"/>\r\n       </defs>\r\n       <use xlink:href=\"#DejaVuSans-54\"/>\r\n       <use x=\"63.623047\" xlink:href=\"#DejaVuSans-48\"/>\r\n      </g>\r\n     </g>\r\n    </g>\r\n    <g id=\"xtick_4\">\r\n     <g id=\"line2d_7\">\r\n      <path clip-path=\"url(#pf705ff4494)\" d=\"M 201.857955 143.1 \r\nL 201.857955 7.2 \r\n\" style=\"fill:none;stroke:#b0b0b0;stroke-linecap:square;stroke-width:0.8;\"/>\r\n     </g>\r\n     <g id=\"line2d_8\">\r\n      <g>\r\n       <use style=\"stroke:#000000;stroke-width:0.8;\" x=\"201.857955\" xlink:href=\"#m1e71e5005e\" y=\"143.1\"/>\r\n      </g>\r\n     </g>\r\n     <g id=\"text_4\">\r\n      <!-- 80 -->\r\n      <g transform=\"translate(195.495455 157.698438)scale(0.1 -0.1)\">\r\n       <defs>\r\n        <path d=\"M 31.78125 34.625 \r\nQ 24.75 34.625 20.71875 30.859375 \r\nQ 16.703125 27.09375 16.703125 20.515625 \r\nQ 16.703125 13.921875 20.71875 10.15625 \r\nQ 24.75 6.390625 31.78125 6.390625 \r\nQ 38.8125 6.390625 42.859375 10.171875 \r\nQ 46.921875 13.96875 46.921875 20.515625 \r\nQ 46.921875 27.09375 42.890625 30.859375 \r\nQ 38.875 34.625 31.78125 34.625 \r\nz\r\nM 21.921875 38.8125 \r\nQ 15.578125 40.375 12.03125 44.71875 \r\nQ 8.5 49.078125 8.5 55.328125 \r\nQ 8.5 64.0625 14.71875 69.140625 \r\nQ 20.953125 74.21875 31.78125 74.21875 \r\nQ 42.671875 74.21875 48.875 69.140625 \r\nQ 55.078125 64.0625 55.078125 55.328125 \r\nQ 55.078125 49.078125 51.53125 44.71875 \r\nQ 48 40.375 41.703125 38.8125 \r\nQ 48.828125 37.15625 52.796875 32.3125 \r\nQ 56.78125 27.484375 56.78125 20.515625 \r\nQ 56.78125 9.90625 50.3125 4.234375 \r\nQ 43.84375 -1.421875 31.78125 -1.421875 \r\nQ 19.734375 -1.421875 13.25 4.234375 \r\nQ 6.78125 9.90625 6.78125 20.515625 \r\nQ 6.78125 27.484375 10.78125 32.3125 \r\nQ 14.796875 37.15625 21.921875 38.8125 \r\nz\r\nM 18.3125 54.390625 \r\nQ 18.3125 48.734375 21.84375 45.5625 \r\nQ 25.390625 42.390625 31.78125 42.390625 \r\nQ 38.140625 42.390625 41.71875 45.5625 \r\nQ 45.3125 48.734375 45.3125 54.390625 \r\nQ 45.3125 60.0625 41.71875 63.234375 \r\nQ 38.140625 66.40625 31.78125 66.40625 \r\nQ 25.390625 66.40625 21.84375 63.234375 \r\nQ 18.3125 60.0625 18.3125 54.390625 \r\nz\r\n\" id=\"DejaVuSans-56\"/>\r\n       </defs>\r\n       <use xlink:href=\"#DejaVuSans-56\"/>\r\n       <use x=\"63.623047\" xlink:href=\"#DejaVuSans-48\"/>\r\n      </g>\r\n     </g>\r\n    </g>\r\n    <g id=\"xtick_5\">\r\n     <g id=\"line2d_9\">\r\n      <path clip-path=\"url(#pf705ff4494)\" d=\"M 241.3125 143.1 \r\nL 241.3125 7.2 \r\n\" style=\"fill:none;stroke:#b0b0b0;stroke-linecap:square;stroke-width:0.8;\"/>\r\n     </g>\r\n     <g id=\"line2d_10\">\r\n      <g>\r\n       <use style=\"stroke:#000000;stroke-width:0.8;\" x=\"241.3125\" xlink:href=\"#m1e71e5005e\" y=\"143.1\"/>\r\n      </g>\r\n     </g>\r\n     <g id=\"text_5\">\r\n      <!-- 100 -->\r\n      <g transform=\"translate(231.76875 157.698438)scale(0.1 -0.1)\">\r\n       <defs>\r\n        <path d=\"M 12.40625 8.296875 \r\nL 28.515625 8.296875 \r\nL 28.515625 63.921875 \r\nL 10.984375 60.40625 \r\nL 10.984375 69.390625 \r\nL 28.421875 72.90625 \r\nL 38.28125 72.90625 \r\nL 38.28125 8.296875 \r\nL 54.390625 8.296875 \r\nL 54.390625 0 \r\nL 12.40625 0 \r\nz\r\n\" id=\"DejaVuSans-49\"/>\r\n       </defs>\r\n       <use xlink:href=\"#DejaVuSans-49\"/>\r\n       <use x=\"63.623047\" xlink:href=\"#DejaVuSans-48\"/>\r\n       <use x=\"127.246094\" xlink:href=\"#DejaVuSans-48\"/>\r\n      </g>\r\n     </g>\r\n    </g>\r\n    <g id=\"text_6\">\r\n     <!-- epoch -->\r\n     <g transform=\"translate(128.434375 171.376563)scale(0.1 -0.1)\">\r\n      <defs>\r\n       <path d=\"M 56.203125 29.59375 \r\nL 56.203125 25.203125 \r\nL 14.890625 25.203125 \r\nQ 15.484375 15.921875 20.484375 11.0625 \r\nQ 25.484375 6.203125 34.421875 6.203125 \r\nQ 39.59375 6.203125 44.453125 7.46875 \r\nQ 49.3125 8.734375 54.109375 11.28125 \r\nL 54.109375 2.78125 \r\nQ 49.265625 0.734375 44.1875 -0.34375 \r\nQ 39.109375 -1.421875 33.890625 -1.421875 \r\nQ 20.796875 -1.421875 13.15625 6.1875 \r\nQ 5.515625 13.8125 5.515625 26.8125 \r\nQ 5.515625 40.234375 12.765625 48.109375 \r\nQ 20.015625 56 32.328125 56 \r\nQ 43.359375 56 49.78125 48.890625 \r\nQ 56.203125 41.796875 56.203125 29.59375 \r\nz\r\nM 47.21875 32.234375 \r\nQ 47.125 39.59375 43.09375 43.984375 \r\nQ 39.0625 48.390625 32.421875 48.390625 \r\nQ 24.90625 48.390625 20.390625 44.140625 \r\nQ 15.875 39.890625 15.1875 32.171875 \r\nz\r\n\" id=\"DejaVuSans-101\"/>\r\n       <path d=\"M 18.109375 8.203125 \r\nL 18.109375 -20.796875 \r\nL 9.078125 -20.796875 \r\nL 9.078125 54.6875 \r\nL 18.109375 54.6875 \r\nL 18.109375 46.390625 \r\nQ 20.953125 51.265625 25.265625 53.625 \r\nQ 29.59375 56 35.59375 56 \r\nQ 45.5625 56 51.78125 48.09375 \r\nQ 58.015625 40.1875 58.015625 27.296875 \r\nQ 58.015625 14.40625 51.78125 6.484375 \r\nQ 45.5625 -1.421875 35.59375 -1.421875 \r\nQ 29.59375 -1.421875 25.265625 0.953125 \r\nQ 20.953125 3.328125 18.109375 8.203125 \r\nz\r\nM 48.6875 27.296875 \r\nQ 48.6875 37.203125 44.609375 42.84375 \r\nQ 40.53125 48.484375 33.40625 48.484375 \r\nQ 26.265625 48.484375 22.1875 42.84375 \r\nQ 18.109375 37.203125 18.109375 27.296875 \r\nQ 18.109375 17.390625 22.1875 11.75 \r\nQ 26.265625 6.109375 33.40625 6.109375 \r\nQ 40.53125 6.109375 44.609375 11.75 \r\nQ 48.6875 17.390625 48.6875 27.296875 \r\nz\r\n\" id=\"DejaVuSans-112\"/>\r\n       <path d=\"M 30.609375 48.390625 \r\nQ 23.390625 48.390625 19.1875 42.75 \r\nQ 14.984375 37.109375 14.984375 27.296875 \r\nQ 14.984375 17.484375 19.15625 11.84375 \r\nQ 23.34375 6.203125 30.609375 6.203125 \r\nQ 37.796875 6.203125 41.984375 11.859375 \r\nQ 46.1875 17.53125 46.1875 27.296875 \r\nQ 46.1875 37.015625 41.984375 42.703125 \r\nQ 37.796875 48.390625 30.609375 48.390625 \r\nz\r\nM 30.609375 56 \r\nQ 42.328125 56 49.015625 48.375 \r\nQ 55.71875 40.765625 55.71875 27.296875 \r\nQ 55.71875 13.875 49.015625 6.21875 \r\nQ 42.328125 -1.421875 30.609375 -1.421875 \r\nQ 18.84375 -1.421875 12.171875 6.21875 \r\nQ 5.515625 13.875 5.515625 27.296875 \r\nQ 5.515625 40.765625 12.171875 48.375 \r\nQ 18.84375 56 30.609375 56 \r\nz\r\n\" id=\"DejaVuSans-111\"/>\r\n       <path d=\"M 48.78125 52.59375 \r\nL 48.78125 44.1875 \r\nQ 44.96875 46.296875 41.140625 47.34375 \r\nQ 37.3125 48.390625 33.40625 48.390625 \r\nQ 24.65625 48.390625 19.8125 42.84375 \r\nQ 14.984375 37.3125 14.984375 27.296875 \r\nQ 14.984375 17.28125 19.8125 11.734375 \r\nQ 24.65625 6.203125 33.40625 6.203125 \r\nQ 37.3125 6.203125 41.140625 7.25 \r\nQ 44.96875 8.296875 48.78125 10.40625 \r\nL 48.78125 2.09375 \r\nQ 45.015625 0.34375 40.984375 -0.53125 \r\nQ 36.96875 -1.421875 32.421875 -1.421875 \r\nQ 20.0625 -1.421875 12.78125 6.34375 \r\nQ 5.515625 14.109375 5.515625 27.296875 \r\nQ 5.515625 40.671875 12.859375 48.328125 \r\nQ 20.21875 56 33.015625 56 \r\nQ 37.15625 56 41.109375 55.140625 \r\nQ 45.0625 54.296875 48.78125 52.59375 \r\nz\r\n\" id=\"DejaVuSans-99\"/>\r\n       <path d=\"M 54.890625 33.015625 \r\nL 54.890625 0 \r\nL 45.90625 0 \r\nL 45.90625 32.71875 \r\nQ 45.90625 40.484375 42.875 44.328125 \r\nQ 39.84375 48.1875 33.796875 48.1875 \r\nQ 26.515625 48.1875 22.3125 43.546875 \r\nQ 18.109375 38.921875 18.109375 30.90625 \r\nL 18.109375 0 \r\nL 9.078125 0 \r\nL 9.078125 75.984375 \r\nL 18.109375 75.984375 \r\nL 18.109375 46.1875 \r\nQ 21.34375 51.125 25.703125 53.5625 \r\nQ 30.078125 56 35.796875 56 \r\nQ 45.21875 56 50.046875 50.171875 \r\nQ 54.890625 44.34375 54.890625 33.015625 \r\nz\r\n\" id=\"DejaVuSans-104\"/>\r\n      </defs>\r\n      <use xlink:href=\"#DejaVuSans-101\"/>\r\n      <use x=\"61.523438\" xlink:href=\"#DejaVuSans-112\"/>\r\n      <use x=\"125\" xlink:href=\"#DejaVuSans-111\"/>\r\n      <use x=\"186.181641\" xlink:href=\"#DejaVuSans-99\"/>\r\n      <use x=\"241.162109\" xlink:href=\"#DejaVuSans-104\"/>\r\n     </g>\r\n    </g>\r\n   </g>\r\n   <g id=\"matplotlib.axis_2\">\r\n    <g id=\"ytick_1\">\r\n     <g id=\"line2d_11\">\r\n      <path clip-path=\"url(#pf705ff4494)\" d=\"M 46.0125 136.935083 \r\nL 241.3125 136.935083 \r\n\" style=\"fill:none;stroke:#b0b0b0;stroke-linecap:square;stroke-width:0.8;\"/>\r\n     </g>\r\n     <g id=\"line2d_12\">\r\n      <defs>\r\n       <path d=\"M 0 0 \r\nL -3.5 0 \r\n\" id=\"mf220d44287\" style=\"stroke:#000000;stroke-width:0.8;\"/>\r\n      </defs>\r\n      <g>\r\n       <use style=\"stroke:#000000;stroke-width:0.8;\" x=\"46.0125\" xlink:href=\"#mf220d44287\" y=\"136.935083\"/>\r\n      </g>\r\n     </g>\r\n     <g id=\"text_7\">\r\n      <!-- 0 -->\r\n      <g transform=\"translate(32.65 140.734302)scale(0.1 -0.1)\">\r\n       <use xlink:href=\"#DejaVuSans-48\"/>\r\n      </g>\r\n     </g>\r\n    </g>\r\n    <g id=\"ytick_2\">\r\n     <g id=\"line2d_13\">\r\n      <path clip-path=\"url(#pf705ff4494)\" d=\"M 46.0125 112.223521 \r\nL 241.3125 112.223521 \r\n\" style=\"fill:none;stroke:#b0b0b0;stroke-linecap:square;stroke-width:0.8;\"/>\r\n     </g>\r\n     <g id=\"line2d_14\">\r\n      <g>\r\n       <use style=\"stroke:#000000;stroke-width:0.8;\" x=\"46.0125\" xlink:href=\"#mf220d44287\" y=\"112.223521\"/>\r\n      </g>\r\n     </g>\r\n     <g id=\"text_8\">\r\n      <!-- 2000 -->\r\n      <g transform=\"translate(13.5625 116.02274)scale(0.1 -0.1)\">\r\n       <use xlink:href=\"#DejaVuSans-50\"/>\r\n       <use x=\"63.623047\" xlink:href=\"#DejaVuSans-48\"/>\r\n       <use x=\"127.246094\" xlink:href=\"#DejaVuSans-48\"/>\r\n       <use x=\"190.869141\" xlink:href=\"#DejaVuSans-48\"/>\r\n      </g>\r\n     </g>\r\n    </g>\r\n    <g id=\"ytick_3\">\r\n     <g id=\"line2d_15\">\r\n      <path clip-path=\"url(#pf705ff4494)\" d=\"M 46.0125 87.511959 \r\nL 241.3125 87.511959 \r\n\" style=\"fill:none;stroke:#b0b0b0;stroke-linecap:square;stroke-width:0.8;\"/>\r\n     </g>\r\n     <g id=\"line2d_16\">\r\n      <g>\r\n       <use style=\"stroke:#000000;stroke-width:0.8;\" x=\"46.0125\" xlink:href=\"#mf220d44287\" y=\"87.511959\"/>\r\n      </g>\r\n     </g>\r\n     <g id=\"text_9\">\r\n      <!-- 4000 -->\r\n      <g transform=\"translate(13.5625 91.311178)scale(0.1 -0.1)\">\r\n       <use xlink:href=\"#DejaVuSans-52\"/>\r\n       <use x=\"63.623047\" xlink:href=\"#DejaVuSans-48\"/>\r\n       <use x=\"127.246094\" xlink:href=\"#DejaVuSans-48\"/>\r\n       <use x=\"190.869141\" xlink:href=\"#DejaVuSans-48\"/>\r\n      </g>\r\n     </g>\r\n    </g>\r\n    <g id=\"ytick_4\">\r\n     <g id=\"line2d_17\">\r\n      <path clip-path=\"url(#pf705ff4494)\" d=\"M 46.0125 62.800397 \r\nL 241.3125 62.800397 \r\n\" style=\"fill:none;stroke:#b0b0b0;stroke-linecap:square;stroke-width:0.8;\"/>\r\n     </g>\r\n     <g id=\"line2d_18\">\r\n      <g>\r\n       <use style=\"stroke:#000000;stroke-width:0.8;\" x=\"46.0125\" xlink:href=\"#mf220d44287\" y=\"62.800397\"/>\r\n      </g>\r\n     </g>\r\n     <g id=\"text_10\">\r\n      <!-- 6000 -->\r\n      <g transform=\"translate(13.5625 66.599616)scale(0.1 -0.1)\">\r\n       <use xlink:href=\"#DejaVuSans-54\"/>\r\n       <use x=\"63.623047\" xlink:href=\"#DejaVuSans-48\"/>\r\n       <use x=\"127.246094\" xlink:href=\"#DejaVuSans-48\"/>\r\n       <use x=\"190.869141\" xlink:href=\"#DejaVuSans-48\"/>\r\n      </g>\r\n     </g>\r\n    </g>\r\n    <g id=\"ytick_5\">\r\n     <g id=\"line2d_19\">\r\n      <path clip-path=\"url(#pf705ff4494)\" d=\"M 46.0125 38.088835 \r\nL 241.3125 38.088835 \r\n\" style=\"fill:none;stroke:#b0b0b0;stroke-linecap:square;stroke-width:0.8;\"/>\r\n     </g>\r\n     <g id=\"line2d_20\">\r\n      <g>\r\n       <use style=\"stroke:#000000;stroke-width:0.8;\" x=\"46.0125\" xlink:href=\"#mf220d44287\" y=\"38.088835\"/>\r\n      </g>\r\n     </g>\r\n     <g id=\"text_11\">\r\n      <!-- 8000 -->\r\n      <g transform=\"translate(13.5625 41.888054)scale(0.1 -0.1)\">\r\n       <use xlink:href=\"#DejaVuSans-56\"/>\r\n       <use x=\"63.623047\" xlink:href=\"#DejaVuSans-48\"/>\r\n       <use x=\"127.246094\" xlink:href=\"#DejaVuSans-48\"/>\r\n       <use x=\"190.869141\" xlink:href=\"#DejaVuSans-48\"/>\r\n      </g>\r\n     </g>\r\n    </g>\r\n    <g id=\"ytick_6\">\r\n     <g id=\"line2d_21\">\r\n      <path clip-path=\"url(#pf705ff4494)\" d=\"M 46.0125 13.377273 \r\nL 241.3125 13.377273 \r\n\" style=\"fill:none;stroke:#b0b0b0;stroke-linecap:square;stroke-width:0.8;\"/>\r\n     </g>\r\n     <g id=\"line2d_22\">\r\n      <g>\r\n       <use style=\"stroke:#000000;stroke-width:0.8;\" x=\"46.0125\" xlink:href=\"#mf220d44287\" y=\"13.377273\"/>\r\n      </g>\r\n     </g>\r\n     <g id=\"text_12\">\r\n      <!-- 10000 -->\r\n      <g transform=\"translate(7.2 17.176491)scale(0.1 -0.1)\">\r\n       <use xlink:href=\"#DejaVuSans-49\"/>\r\n       <use x=\"63.623047\" xlink:href=\"#DejaVuSans-48\"/>\r\n       <use x=\"127.246094\" xlink:href=\"#DejaVuSans-48\"/>\r\n       <use x=\"190.869141\" xlink:href=\"#DejaVuSans-48\"/>\r\n       <use x=\"254.492188\" xlink:href=\"#DejaVuSans-48\"/>\r\n      </g>\r\n     </g>\r\n    </g>\r\n   </g>\r\n   <g id=\"line2d_23\">\r\n    <path clip-path=\"url(#pf705ff4494)\" d=\"M 44.039773 136.922727 \r\nL 46.0125 136.910371 \r\nL 47.985227 136.898016 \r\nL 49.957955 136.88566 \r\nL 51.930682 136.873304 \r\nL 53.903409 136.860948 \r\nL 55.876136 136.848593 \r\nL 57.848864 136.836237 \r\nL 59.821591 136.823881 \r\nL 61.794318 136.811525 \r\nL 63.767045 136.799169 \r\nL 65.739773 136.786814 \r\nL 67.7125 136.774458 \r\nL 69.685227 136.762102 \r\nL 71.657955 136.749746 \r\nL 73.630682 136.737391 \r\nL 75.603409 136.725035 \r\nL 77.576136 136.712679 \r\nL 79.548864 136.700323 \r\nL 81.521591 136.687967 \r\nL 83.494318 136.675612 \r\nL 85.467045 136.663256 \r\nL 87.439773 136.6509 \r\nL 89.4125 136.638544 \r\nL 91.385227 136.626189 \r\nL 93.357955 136.613833 \r\nL 95.330682 136.601477 \r\nL 97.303409 136.589121 \r\nL 99.276136 136.576765 \r\nL 101.248864 136.56441 \r\nL 103.221591 136.552054 \r\nL 105.194318 136.539698 \r\nL 107.167045 136.527342 \r\nL 109.139773 136.514986 \r\nL 111.1125 136.502631 \r\nL 113.085227 136.490275 \r\nL 115.057955 136.477919 \r\nL 117.030682 136.465563 \r\nL 119.003409 136.453208 \r\nL 120.976136 136.440852 \r\nL 122.948864 136.428496 \r\nL 124.921591 136.41614 \r\nL 126.894318 136.403784 \r\nL 128.867045 136.391429 \r\nL 130.839773 136.379073 \r\nL 132.8125 136.366717 \r\nL 134.785227 136.354361 \r\nL 136.757955 136.342006 \r\nL 138.730682 136.32965 \r\nL 140.703409 136.317294 \r\nL 142.676136 136.304938 \r\nL 144.648864 136.292582 \r\nL 146.621591 136.280227 \r\nL 148.594318 136.267871 \r\nL 150.567045 136.255515 \r\nL 152.539773 136.243159 \r\nL 154.5125 136.230804 \r\nL 156.485227 136.218448 \r\nL 158.457955 136.206092 \r\nL 160.430682 136.193736 \r\nL 162.403409 136.18138 \r\nL 164.376136 136.169025 \r\nL 166.348864 136.156669 \r\nL 168.321591 136.144313 \r\nL 170.294318 136.131957 \r\nL 172.267045 136.119602 \r\nL 174.239773 136.107246 \r\nL 176.2125 136.09489 \r\nL 178.185227 136.082534 \r\nL 180.157955 136.070178 \r\nL 182.130682 136.057823 \r\nL 184.103409 136.045467 \r\nL 186.076136 136.033111 \r\nL 188.048864 136.020755 \r\nL 190.021591 136.008399 \r\nL 191.994318 135.996044 \r\nL 193.967045 135.983688 \r\nL 195.939773 135.971332 \r\nL 197.9125 135.958976 \r\nL 199.885227 135.946621 \r\nL 201.857955 135.934265 \r\nL 203.830682 135.921909 \r\nL 205.803409 135.909553 \r\nL 207.776136 135.897197 \r\nL 209.748864 135.884842 \r\nL 211.721591 135.872486 \r\nL 213.694318 135.86013 \r\nL 215.667045 135.847774 \r\nL 217.639773 135.835419 \r\nL 219.6125 135.823063 \r\nL 221.585227 135.810707 \r\nL 223.557955 135.798351 \r\nL 225.530682 135.785995 \r\nL 227.503409 135.77364 \r\nL 229.476136 135.761284 \r\nL 231.448864 135.748928 \r\nL 233.421591 135.736572 \r\nL 235.394318 135.724217 \r\nL 237.367045 135.711861 \r\nL 239.339773 135.699505 \r\n\" style=\"fill:none;stroke:#1f77b4;stroke-linecap:square;stroke-width:1.5;\"/>\r\n   </g>\r\n   <g id=\"line2d_24\">\r\n    <path clip-path=\"url(#pf705ff4494)\" d=\"M 44.039773 136.910371 \r\nL 46.0125 136.88566 \r\nL 47.985227 136.860948 \r\nL 49.957955 136.836237 \r\nL 51.930682 136.811525 \r\nL 53.903409 136.786814 \r\nL 55.876136 136.762102 \r\nL 57.848864 136.737391 \r\nL 59.821591 136.712679 \r\nL 61.794318 136.687967 \r\nL 63.767045 136.663256 \r\nL 65.739773 136.638544 \r\nL 67.7125 136.613833 \r\nL 69.685227 136.589121 \r\nL 71.657955 136.56441 \r\nL 73.630682 136.539698 \r\nL 75.603409 136.514986 \r\nL 77.576136 136.490275 \r\nL 79.548864 136.465563 \r\nL 81.521591 136.440852 \r\nL 83.494318 136.41614 \r\nL 85.467045 136.391429 \r\nL 87.439773 136.366717 \r\nL 89.4125 136.342006 \r\nL 91.385227 136.317294 \r\nL 93.357955 136.292582 \r\nL 95.330682 136.267871 \r\nL 97.303409 136.243159 \r\nL 99.276136 136.218448 \r\nL 101.248864 136.193736 \r\nL 103.221591 136.169025 \r\nL 105.194318 136.144313 \r\nL 107.167045 136.119602 \r\nL 109.139773 136.09489 \r\nL 111.1125 136.070178 \r\nL 113.085227 136.045467 \r\nL 115.057955 136.020755 \r\nL 117.030682 135.996044 \r\nL 119.003409 135.971332 \r\nL 120.976136 135.946621 \r\nL 122.948864 135.921909 \r\nL 124.921591 135.897197 \r\nL 126.894318 135.872486 \r\nL 128.867045 135.847774 \r\nL 130.839773 135.823063 \r\nL 132.8125 135.798351 \r\nL 134.785227 135.77364 \r\nL 136.757955 135.748928 \r\nL 138.730682 135.724217 \r\nL 140.703409 135.699505 \r\nL 142.676136 135.674793 \r\nL 144.648864 135.650082 \r\nL 146.621591 135.62537 \r\nL 148.594318 135.600659 \r\nL 150.567045 135.575947 \r\nL 152.539773 135.551236 \r\nL 154.5125 135.526524 \r\nL 156.485227 135.501812 \r\nL 158.457955 135.477101 \r\nL 160.430682 135.452389 \r\nL 162.403409 135.427678 \r\nL 164.376136 135.402966 \r\nL 166.348864 135.378255 \r\nL 168.321591 135.353543 \r\nL 170.294318 135.328832 \r\nL 172.267045 135.30412 \r\nL 174.239773 135.279408 \r\nL 176.2125 135.254697 \r\nL 178.185227 135.229985 \r\nL 180.157955 135.205274 \r\nL 182.130682 135.180562 \r\nL 184.103409 135.155851 \r\nL 186.076136 135.131139 \r\nL 188.048864 135.106427 \r\nL 190.021591 135.081716 \r\nL 191.994318 135.057004 \r\nL 193.967045 135.032293 \r\nL 195.939773 135.007581 \r\nL 197.9125 134.98287 \r\nL 199.885227 134.958158 \r\nL 201.857955 134.933447 \r\nL 203.830682 134.908735 \r\nL 205.803409 134.884023 \r\nL 207.776136 134.859312 \r\nL 209.748864 134.8346 \r\nL 211.721591 134.809889 \r\nL 213.694318 134.785177 \r\nL 215.667045 134.760466 \r\nL 217.639773 134.735754 \r\nL 219.6125 134.711042 \r\nL 221.585227 134.686331 \r\nL 223.557955 134.661619 \r\nL 225.530682 134.636908 \r\nL 227.503409 134.612196 \r\nL 229.476136 134.587485 \r\nL 231.448864 134.562773 \r\nL 233.421591 134.538062 \r\nL 235.394318 134.51335 \r\nL 237.367045 134.488638 \r\nL 239.339773 134.463927 \r\n\" style=\"fill:none;stroke:#bf00bf;stroke-dasharray:5.55,2.4;stroke-dashoffset:0;stroke-width:1.5;\"/>\r\n   </g>\r\n   <g id=\"line2d_25\">\r\n    <path clip-path=\"url(#pf705ff4494)\" d=\"M 44.039773 136.922727 \r\nL 46.0125 136.88566 \r\nL 47.985227 136.823881 \r\nL 49.957955 136.737391 \r\nL 51.930682 136.626189 \r\nL 53.903409 136.490275 \r\nL 55.876136 136.32965 \r\nL 57.848864 136.144313 \r\nL 59.821591 135.934265 \r\nL 61.794318 135.699505 \r\nL 63.767045 135.440034 \r\nL 65.739773 135.155851 \r\nL 67.7125 134.846956 \r\nL 69.685227 134.51335 \r\nL 71.657955 134.155032 \r\nL 73.630682 133.772003 \r\nL 75.603409 133.364262 \r\nL 77.576136 132.93181 \r\nL 79.548864 132.474646 \r\nL 81.521591 131.992771 \r\nL 83.494318 131.486184 \r\nL 85.467045 130.954885 \r\nL 87.439773 130.398875 \r\nL 89.4125 129.818153 \r\nL 91.385227 129.21272 \r\nL 93.357955 128.582575 \r\nL 95.330682 127.927719 \r\nL 97.303409 127.248151 \r\nL 99.276136 126.543871 \r\nL 101.248864 125.81488 \r\nL 103.221591 125.061177 \r\nL 105.194318 124.282763 \r\nL 107.167045 123.479638 \r\nL 109.139773 122.6518 \r\nL 111.1125 121.799251 \r\nL 113.085227 120.921991 \r\nL 115.057955 120.020019 \r\nL 117.030682 119.093335 \r\nL 119.003409 118.14194 \r\nL 120.976136 117.165833 \r\nL 122.948864 116.165015 \r\nL 124.921591 115.139485 \r\nL 126.894318 114.089244 \r\nL 128.867045 113.014291 \r\nL 130.839773 111.914626 \r\nL 132.8125 110.79025 \r\nL 134.785227 109.641163 \r\nL 136.757955 108.467364 \r\nL 138.730682 107.268853 \r\nL 140.703409 106.04563 \r\nL 142.676136 104.797697 \r\nL 144.648864 103.525051 \r\nL 146.621591 102.227694 \r\nL 148.594318 100.905626 \r\nL 150.567045 99.558845 \r\nL 152.539773 98.187354 \r\nL 154.5125 96.79115 \r\nL 156.485227 95.370236 \r\nL 158.457955 93.924609 \r\nL 160.430682 92.454271 \r\nL 162.403409 90.959222 \r\nL 164.376136 89.439461 \r\nL 166.348864 87.894988 \r\nL 168.321591 86.325804 \r\nL 170.294318 84.731908 \r\nL 172.267045 83.113301 \r\nL 174.239773 81.469982 \r\nL 176.2125 79.801952 \r\nL 178.185227 78.10921 \r\nL 180.157955 76.391756 \r\nL 182.130682 74.649591 \r\nL 184.103409 72.882714 \r\nL 186.076136 71.091126 \r\nL 188.048864 69.274826 \r\nL 190.021591 67.433815 \r\nL 191.994318 65.568092 \r\nL 193.967045 63.677657 \r\nL 195.939773 61.762511 \r\nL 197.9125 59.822654 \r\nL 199.885227 57.858084 \r\nL 201.857955 55.868804 \r\nL 203.830682 53.854811 \r\nL 205.803409 51.816108 \r\nL 207.776136 49.752692 \r\nL 209.748864 47.664565 \r\nL 211.721591 45.551727 \r\nL 213.694318 43.414176 \r\nL 215.667045 41.251915 \r\nL 217.639773 39.064941 \r\nL 219.6125 36.853257 \r\nL 221.585227 34.61686 \r\nL 223.557955 32.355752 \r\nL 225.530682 30.069933 \r\nL 227.503409 27.759402 \r\nL 229.476136 25.424159 \r\nL 231.448864 23.064205 \r\nL 233.421591 20.679539 \r\nL 235.394318 18.270162 \r\nL 237.367045 15.836073 \r\nL 239.339773 13.377273 \r\n\" style=\"fill:none;stroke:#008000;stroke-dasharray:9.6,2.4,1.5,2.4;stroke-dashoffset:0;stroke-width:1.5;\"/>\r\n   </g>\r\n   <g id=\"patch_3\">\r\n    <path d=\"M 46.0125 143.1 \r\nL 46.0125 7.2 \r\n\" style=\"fill:none;stroke:#000000;stroke-linecap:square;stroke-linejoin:miter;stroke-width:0.8;\"/>\r\n   </g>\r\n   <g id=\"patch_4\">\r\n    <path d=\"M 241.3125 143.1 \r\nL 241.3125 7.2 \r\n\" style=\"fill:none;stroke:#000000;stroke-linecap:square;stroke-linejoin:miter;stroke-width:0.8;\"/>\r\n   </g>\r\n   <g id=\"patch_5\">\r\n    <path d=\"M 46.0125 143.1 \r\nL 241.3125 143.1 \r\n\" style=\"fill:none;stroke:#000000;stroke-linecap:square;stroke-linejoin:miter;stroke-width:0.8;\"/>\r\n   </g>\r\n   <g id=\"patch_6\">\r\n    <path d=\"M 46.0125 7.2 \r\nL 241.3125 7.2 \r\n\" style=\"fill:none;stroke:#000000;stroke-linecap:square;stroke-linejoin:miter;stroke-width:0.8;\"/>\r\n   </g>\r\n   <g id=\"legend_1\">\r\n    <g id=\"patch_7\">\r\n     <path d=\"M 53.0125 59.234375 \r\nL 90.93125 59.234375 \r\nQ 92.93125 59.234375 92.93125 57.234375 \r\nL 92.93125 14.2 \r\nQ 92.93125 12.2 90.93125 12.2 \r\nL 53.0125 12.2 \r\nQ 51.0125 12.2 51.0125 14.2 \r\nL 51.0125 57.234375 \r\nQ 51.0125 59.234375 53.0125 59.234375 \r\nz\r\n\" style=\"fill:#ffffff;opacity:0.8;stroke:#cccccc;stroke-linejoin:miter;\"/>\r\n    </g>\r\n    <g id=\"line2d_26\">\r\n     <path d=\"M 55.0125 20.298438 \r\nL 75.0125 20.298438 \r\n\" style=\"fill:none;stroke:#1f77b4;stroke-linecap:square;stroke-width:1.5;\"/>\r\n    </g>\r\n    <g id=\"line2d_27\"/>\r\n    <g id=\"text_13\">\r\n     <!-- x -->\r\n     <g transform=\"translate(83.0125 23.798438)scale(0.1 -0.1)\">\r\n      <defs>\r\n       <path d=\"M 54.890625 54.6875 \r\nL 35.109375 28.078125 \r\nL 55.90625 0 \r\nL 45.3125 0 \r\nL 29.390625 21.484375 \r\nL 13.484375 0 \r\nL 2.875 0 \r\nL 24.125 28.609375 \r\nL 4.6875 54.6875 \r\nL 15.28125 54.6875 \r\nL 29.78125 35.203125 \r\nL 44.28125 54.6875 \r\nz\r\n\" id=\"DejaVuSans-120\"/>\r\n      </defs>\r\n      <use xlink:href=\"#DejaVuSans-120\"/>\r\n     </g>\r\n    </g>\r\n    <g id=\"line2d_28\">\r\n     <path d=\"M 55.0125 34.976562 \r\nL 75.0125 34.976562 \r\n\" style=\"fill:none;stroke:#bf00bf;stroke-dasharray:5.55,2.4;stroke-dashoffset:0;stroke-width:1.5;\"/>\r\n    </g>\r\n    <g id=\"line2d_29\"/>\r\n    <g id=\"text_14\">\r\n     <!-- y -->\r\n     <g transform=\"translate(83.0125 38.476562)scale(0.1 -0.1)\">\r\n      <defs>\r\n       <path d=\"M 32.171875 -5.078125 \r\nQ 28.375 -14.84375 24.75 -17.8125 \r\nQ 21.140625 -20.796875 15.09375 -20.796875 \r\nL 7.90625 -20.796875 \r\nL 7.90625 -13.28125 \r\nL 13.1875 -13.28125 \r\nQ 16.890625 -13.28125 18.9375 -11.515625 \r\nQ 21 -9.765625 23.484375 -3.21875 \r\nL 25.09375 0.875 \r\nL 2.984375 54.6875 \r\nL 12.5 54.6875 \r\nL 29.59375 11.921875 \r\nL 46.6875 54.6875 \r\nL 56.203125 54.6875 \r\nz\r\n\" id=\"DejaVuSans-121\"/>\r\n      </defs>\r\n      <use xlink:href=\"#DejaVuSans-121\"/>\r\n     </g>\r\n    </g>\r\n    <g id=\"line2d_30\">\r\n     <path d=\"M 55.0125 49.654688 \r\nL 75.0125 49.654688 \r\n\" style=\"fill:none;stroke:#008000;stroke-dasharray:9.6,2.4,1.5,2.4;stroke-dashoffset:0;stroke-width:1.5;\"/>\r\n    </g>\r\n    <g id=\"line2d_31\"/>\r\n    <g id=\"text_15\">\r\n     <!-- z -->\r\n     <g transform=\"translate(83.0125 53.154688)scale(0.1 -0.1)\">\r\n      <defs>\r\n       <path d=\"M 5.515625 54.6875 \r\nL 48.1875 54.6875 \r\nL 48.1875 46.484375 \r\nL 14.40625 7.171875 \r\nL 48.1875 7.171875 \r\nL 48.1875 0 \r\nL 4.296875 0 \r\nL 4.296875 8.203125 \r\nL 38.09375 47.515625 \r\nL 5.515625 47.515625 \r\nz\r\n\" id=\"DejaVuSans-122\"/>\r\n      </defs>\r\n      <use xlink:href=\"#DejaVuSans-122\"/>\r\n     </g>\r\n    </g>\r\n   </g>\r\n  </g>\r\n </g>\r\n <defs>\r\n  <clipPath id=\"pf705ff4494\">\r\n   <rect height=\"135.9\" width=\"195.3\" x=\"46.0125\" y=\"7.2\"/>\r\n  </clipPath>\r\n </defs>\r\n</svg>\r\n",
      "text/plain": [
       "<Figure size 252x180 with 1 Axes>"
      ]
     },
     "metadata": {
      "needs_background": "light"
     },
     "output_type": "display_data"
    }
   ],
   "source": [
    "from func import  *\n",
    "animator = Animator(xlabel='epoch', xlim=[1, 100], \n",
    "                            legend=['x', 'y', 'z'])\n",
    "for i in range(100):\n",
    "    x = i + 1\n",
    "    y = x * 2\n",
    "    z = x * x\n",
    "    animator.add(i, (x, y, z))\n",
    "    animator.fig.savefig(\"./tmp/result.jpg\",dpi = 500, bbox_inches = 'tight')"
   ]
  },
  {
   "cell_type": "code",
   "execution_count": 5,
   "metadata": {},
   "outputs": [
    {
     "name": "stdout",
     "output_type": "stream",
     "text": [
      "['喜欢大的1|牛牛牛1', '喜欢大的2|牛牛牛2', '喜欢大的3|牛牛牛3', '喜欢大的4|牛牛牛4']\n",
      "[('喜欢大的1', '牛牛牛1'), ('喜欢大的2', '牛牛牛2'), ('喜欢大的3', '牛牛牛3'), ('喜欢大的4', '牛牛牛4')]\n"
     ]
    }
   ],
   "source": [
    "import re\n",
    "str='''\n",
    "{\"TimeStamp\":\"22:39:30.749\", \"Uname\":\"喜欢大的1\", \"Comment\":\"牛牛牛1\", \"Type\":\"弹幕\", \"SCTime\":0}{\"TimeStamp\":\"22:39:30.749\", \"Uname\":\"喜欢大的2\", \"Comment\":\"牛牛牛2\", \"Type\":\"弹幕\", \"SCTime\":0}{\"TimeStamp\":\"22:39:30.749\", \"Uname\":\"喜欢大的3\", \"Comment\":\"牛牛牛3\", \"Type\":\"弹幕\", \"SCTime\":0}{\"TimeStamp\":\"22:39:30.749\", \"Uname\":\"喜欢大的4\", \"Comment\":\"牛牛牛4\", \"Type\":\"弹幕\", \"SCTime\":0}\n",
    "'''\n",
    "str=re.sub('{\"TimeStamp\":','\\n',str)\n",
    "# print(str)\n",
    "def func(str):\n",
    "    str=re.sub('\"Uname\":\"','',str)\n",
    "    str=re.sub('\", \"Comment\":\"','|',str)\n",
    "    str=re.sub('\", \"Type\"','',str)\n",
    "    return str\n",
    "a = re.findall(r'\"Uname\":\".*\", \"Comment\":\".*\", \"Type\"',str)\n",
    "a = [func(i) for i in a]\n",
    "print(a)\n",
    "\n",
    "\n",
    "\n",
    "str='''\n",
    "{\"TimeStamp\":\"22:39:30.749\", \"Uname\":\"喜欢大的1\", \"Comment\":\"牛牛牛1\", \"Type\":\"弹幕\", \"SCTime\":0}{\"TimeStamp\":\"22:39:30.749\", \"Uname\":\"喜欢大的2\", \"Comment\":\"牛牛牛2\", \"Type\":\"弹幕\", \"SCTime\":0}{\"TimeStamp\":\"22:39:30.749\", \"Uname\":\"喜欢大的3\", \"Comment\":\"牛牛牛3\", \"Type\":\"弹幕\", \"SCTime\":0}{\"TimeStamp\":\"22:39:30.749\", \"Uname\":\"喜欢大的4\", \"Comment\":\"牛牛牛4\", \"Type\":\"弹幕\", \"SCTime\":0}\n",
    "'''\n",
    "str=re.sub('{\"TimeStamp\":','\\n',str)\n",
    "a = re.findall(r'\"Uname\":\"(.*)\", \"Comment\":\"(.*)\", \"Type\"',str)\n",
    "print(a)"
   ]
  }
 ],
 "metadata": {
  "interpreter": {
   "hash": "f7d82638622426b021dfc253413adf70fd99d0df92c45baee7527c3c637ec7d6"
  },
  "kernelspec": {
   "display_name": "Python 3.8.8 ('base')",
   "language": "python",
   "name": "python3"
  },
  "language_info": {
   "codemirror_mode": {
    "name": "ipython",
    "version": 3
   },
   "file_extension": ".py",
   "mimetype": "text/x-python",
   "name": "python",
   "nbconvert_exporter": "python",
   "pygments_lexer": "ipython3",
   "version": "3.8.8"
  },
  "orig_nbformat": 4
 },
 "nbformat": 4,
 "nbformat_minor": 2
}
